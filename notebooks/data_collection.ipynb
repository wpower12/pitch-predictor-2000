{
 "cells": [
  {
   "cell_type": "markdown",
   "metadata": {},
   "source": [
    "## Data Sets\n",
    "For this project I need a few different data sets.  The first is simply the 'basic' at bats.  Each sequence will represent one at-bat; one pitcher, one batter.  The sequences will be of one-hot vectors encoding the pitch type. Further data sets will build a richer, additional feature vector that will be learned from.  For example:\n",
    "* pitcher_handedness\n",
    "* batter_handedness\n",
    "* batter_trailing_average\n",
    "* batter_position\n",
    "\n",
    "#### Handed-ness\n",
    "There are a few ways that the handedness of the pitcher/batter could be encoded.  I think some of the 'busywork' of learning the patterns for match ups could be simplified by encoding the matchups into a one-hot vector of length 4.  One entry corresponding to each of the possible match ups: {LL, LR, RL, RR}. Hopefully this makes it easier to learn to seperate the pattern/features specific to each match up.  Seems simpler than having the two one hot vectors, and having to learn the map from the two of them to matchups, then from the matchup to the patterns.\n",
    "#### Posistion\n",
    "Another one-hot vector.  Will need an accurate list of the position labels.  I think there are tf helpers for making one-hots, could use it for this and the pitch types in the sequences themselves.\n",
    "#### Averages\n",
    "The way we calculate and include the averages will need to be able to handle new players, lack of data, edge cases between seasons. Might make this very difficult.  Might be easier to use the teams previous game performance as a proxy. Ok, so spitballing:\n",
    "* Teams Previous Game Performance\n",
    "* Players previous game performance\n",
    "* players average (at the time of the at-bat) (this will be a tough one)\n",
    "\n",
    "#### Pitcher Type\n",
    "Suggested by prof. There are some 'standard' (heavy on the air quotes) ways to describe archtypes of pitchers. Could enumerate them, then look at the way people decide on it and craft a heuristic to describe each pitcher.  \n",
    "## Models\n",
    "Tentativley, I'll settle for 3 models to compare against each other.  \n",
    "* Base Model - Just the Pitches into a simple RNN\n",
    "* Base Model + Hand Matchup + Posistion\n",
    "* Base Model + Hand Matchup + Posistion + Pitcher Type\n",
    "\n",
    "This will hopefully show that the base model is crap because its simply counting patterns.  The second model will hopefully perform better with the inclusion of the additional info.  The third model should/could show that the addition of a more 'hand crafted' heuristic feature can also increase the accuracy of the model. \n",
    "\n",
    "##"
   ]
  },
  {
   "cell_type": "code",
   "execution_count": 14,
   "metadata": {},
   "outputs": [
    {
     "name": "stdout",
     "output_type": "stream",
     "text": [
      "[['491703', ['SL', 'FF', 'SL', 'FF', 'FF', 'FF', 'FF', 'FF']], ['491703', ['CH', 'FF', 'FF', 'FT', 'FF', 'FF']], ['491703', ['FF', 'SL', 'FF', 'FF', 'CH', 'SL']], ['491703', ['FF']], ['448609', ['FF', 'CH', 'CH']], ['448609', ['FF']], ['448609', ['SL', 'FF', 'SL', 'SL']], ['407890', ['FF', 'FF', 'SL', 'CU', 'SL']], ['407890', ['FF', 'FF']], ['407890', ['FF', 'FT', 'FF', 'FF', 'FF']], ['572971', ['FF', 'CH', 'FC']], ['572971', ['CH', 'CH', 'FF', 'CH', 'FF', 'FF']], ['572971', ['FT']], ['572971', ['FT', 'CH', 'CH', 'FT', 'CH']], ['572971', ['FT', 'CH', 'FT']], ['407890', ['CU']], ['407890', ['FF', 'CU']], ['407890', ['CU', 'CU', 'SL', 'FF']], ['572971', ['FT', 'CH', 'FF', 'CH', 'FT', 'FT', 'FT']], ['572971', ['CH', 'FT']], ['572971', ['SL', 'FT', 'SL']], ['407890', ['FF', 'FF', 'FF', 'SL', 'SL', 'FF']], ['407890', ['CU', 'FF', 'FF']], ['407890', ['CU', 'FF', 'FF', 'SL', 'FF']], ['572971', ['FT']], ['572971', ['CH', 'FF']], ['572971', ['CH']], ['572971', ['FT']], ['474521', ['FF', 'FF', 'FF', 'FF', 'FF', 'FF', 'FF', 'FF']], ['474521', ['FF']], ['474521', ['CH', 'FF', 'SL', 'SL', 'CH']], ['448609', ['FF', 'SL']], ['448609', ['FF', 'FF', 'SL']], ['448609', ['FF', 'FF']], ['448609', ['CH', 'FF']], ['448609', ['SL', 'SL', 'SL', 'FF', 'SL', 'SL', 'FF', 'SL', 'SL']], ['448609', ['SL', 'SL', 'SL']], ['407890', ['FF', 'FF', 'FF', 'FF', 'FF']], ['407890', ['FF']], ['407890', ['FF', 'FF']], ['542669', ['FF', 'CH', 'FF', 'IN']], ['542669', ['CH', 'FF', 'FF']], ['450212', ['SI', 'SL', 'SI', 'SL', 'SI']], ['450212', ['SI', 'SI', 'CH', 'SI', 'CH']], ['491159', ['FF', 'FF', 'FF', 'SL', 'SL', 'FF', 'FF']], ['430589', ['SI', 'SI', 'SL']], ['430589', ['SI', 'SI', 'SI', 'SI', 'SI']], ['430589', ['SI', 'SI', 'SI', 'SI', 'SI']], ['430589', ['SI', 'SL', 'SL', 'SL']], ['430589', ['SI']], ['407890', ['FF', 'FF', 'CH', 'FF', 'CH', 'FF']], ['407890', ['FF', 'FF', 'SL', 'SL']], ['407890', ['FF', 'CU', 'CH', 'CH']], ['407890', ['CU', 'FF', 'FF', 'CU', 'FF']], ['407890', ['FF', 'FF', 'CU', 'SL', 'CH']], ['407890', ['FF', 'FF', 'SL']], ['407890', ['FF', 'FF']], ['572971', ['FC', 'CH', 'FC', 'FF']], ['572971', ['FT', 'FT', 'FT', 'SL']], ['572971', ['FT', 'FT', 'FT', 'SL', 'FT', 'FT']], ['605309', ['FF', 'FF', 'FF', 'CH', 'CH']], ['605309', ['FT', 'FF', 'CU', 'FF']], ['605309', ['FF', 'FF', 'CU', 'CU']], ['502381', ['SI', 'SL', 'SI', 'SL', 'SI']], ['502381', ['SI', 'SI', 'SI', 'SI']], ['502381', ['FF', 'SL', 'SL', 'SL']], ['407890', ['FF', 'FT', 'SL', 'FF']], ['407890', ['FF', 'FF', 'SL']], ['407890', ['CH', 'FF']], ['572971', ['FC', 'FT', 'SL']], ['572971', ['FF', 'FF']], ['572971', ['FF', 'FT']], ['572971', ['FT', 'FT', 'FT']], ['548337', ['FF', 'SL', 'FF', 'FF', 'FF', 'FF']], ['548337', ['SL', 'SL', 'FF', 'SL', 'SL']], ['548337', ['CH', 'FT', 'FT']], ['501789', ['FC', 'FC', 'FC', 'FF', 'CU']], ['501789', ['CH', 'FC', 'FC']], ['501789', ['FC', 'FF', 'FC']], ['407890', ['FF', 'FF']], ['407890', ['FF', 'CU']], ['407890', ['FF', 'FF', 'CU', 'SL']], ['407890', ['FF']], ['572971', ['FF', 'FF', 'SL']], ['572971', ['FT', 'FT']], ['572971', ['FT', 'FT', 'FT', 'SL']], ['548337', ['FT', 'FF', 'CH']], ['548337', ['SL', 'FF', 'SL', 'FF', 'FF']], ['548337', ['FT']], ['548337', ['FT', 'FF']], ['548337', ['FT', 'SL']], ['465679', ['FF', 'CU', 'CU', 'CU', 'FF', 'FF']], ['465679', ['FF', 'CH', 'FF', 'FF', 'FC']], ['465679', ['FF', 'CU', 'FF', 'FF']], ['465679', ['CH', 'FF', 'FF', 'CU', 'FF']], ['465679', ['CU', 'CH', 'FF']], ['465679', ['CU', 'FF', 'FF', 'CU', 'CU', 'FF']], ['607309', ['FF', 'FF', 'FF', 'FF']], ['607309', ['FF', 'SL', 'SL']], ['607309', ['FF', 'SL', 'FF', 'FF', 'FF', 'SL']], ['607309', ['SL', 'SL', 'FF']], ['501789', ['CU', 'FF', 'FC', 'CU', 'FC']], ['501789', ['FC', 'FC', 'FC', 'FF', 'CU']], ['501789', ['FC', 'FC', 'FC', 'FC']], ['407890', ['FF']], ['407890', ['FF', 'FF', 'CU']], ['407890', ['CU', 'CU', 'FF', 'FF', 'FF', 'FF', 'SL']], ['572971', ['FT', 'FT']], ['572971', ['FT', 'FT', 'CH', 'FT', 'FT', 'FT']], ['572971', ['FT', 'FT', 'SL', 'SL']], ['572971', ['FT', 'FT', 'FT']], ['572971', ['CH', 'FT', 'FF', 'FT', 'FT']], ['572971', ['FT']], ['572971', ['FT', 'CH', 'FF', 'FT', 'FT']]]\n"
     ]
    }
   ],
   "source": [
    "import pickle, os, mlbgame\n",
    "from pprint import pprint\n",
    "\n",
    "import pymysql\n",
    "\n",
    "YEARS_WANTED   = [2016, 2015, 2014] \n",
    "PITCH_DATA_DIR = \"pitch_data/\"\n",
    "\n",
    "def get_pitch_seqs_from_game( game_id ):\n",
    "    atbats = []\n",
    "    events  = mlbgame.game_events(game_id)\n",
    "    stats   = mlbgame.player_stats(game_id)\n",
    "    # Dictionaries to get batter/pitcher info for feature vector\n",
    "    batters = stats['away_batting']+stats['home_batting']\n",
    "    batters = {b.id: b for b in batters}\n",
    "    pitchers = stats['away_pitching']+stats['home_pitching']\n",
    "    pitchers = {b.id: b for b in pitchers}\n",
    "    for i in events:\n",
    "        inning = events[i]\n",
    "        for ab in inning['top']+inning['bottom']:\n",
    "            pitch_seq = []\n",
    "            for pitch in ab.pitches:\n",
    "                pitch_seq.append(pitch.pitch_type)\n",
    "            feature_str = get_feature_str(ab, batters, pitchers)\n",
    "            atbats.append([feature_str, pitch_seq])\n",
    "    return atbats\n",
    "\n",
    "def get_feature_str(atbat, batters, pitchers):\n",
    "    # Todo - use the atbat to build the feature vector\n",
    "    b = batters[atbat.batter]\n",
    "    p = pitchers[atbat.pitcher]\n",
    "    # The lahmanDB has its own ID scheme, so you'll need to find the pitcher/batter info\n",
    "    # using a similarity query over the names... which sucks.  Could use name+other stuff?\n",
    "    \n",
    "    # need first and last name.  Theres gotta be duplicates.  fuck me. \n",
    "    # WHY CANT THE MLB STANDARDIZE UNIQUE IDs FOR PLAYERS?!?!?!?!?!\n",
    "    \n",
    "    \n",
    "    \n",
    "#     ret = p.name_display_first_last\n",
    "    ret = str(atbat.pitcher)\n",
    "#     ret = p.name\n",
    "    return ret\n",
    "\n",
    "\n",
    "pitch_seq = get_pitch_seqs_from_game(game.game_id)\n",
    "print(pitch_seq)\n",
    "\n",
    "# For each at bat\n",
    "    # Get the pitcher\n",
    "    # Get the batter\n",
    "    # Get the sequence\n",
    "    # append the representations together\n",
    "    \n",
    "# Don't process the data at this stage, just have a row per at bat.  \n",
    "# [pitcher_id, batter_id, pitcher_hand, batter_hand, batter_pos, <pitcher type data - TBD>, [sequence]]\n",
    "\n",
    "# Later, we will take the row data, and convert it to an actual feature vector using some of the TF\n",
    "# helper functions.  I think it has a way to turn things like characters/labels into one-hot vectors \n",
    "# all on its own.  "
   ]
  },
  {
   "cell_type": "markdown",
   "metadata": {},
   "source": [
    "## Data PreProcessing\n",
    "All of the label attribute values will need to be converted to one hot vectors.  Also, if any averages, or numerical values are used (batting averages, on base numbers), these need to be normalized as well.  "
   ]
  }
 ],
 "metadata": {
  "kernelspec": {
   "display_name": "Python 3",
   "language": "python",
   "name": "python3"
  },
  "language_info": {
   "codemirror_mode": {
    "name": "ipython",
    "version": 3
   },
   "file_extension": ".py",
   "mimetype": "text/x-python",
   "name": "python",
   "nbconvert_exporter": "python",
   "pygments_lexer": "ipython3",
   "version": "3.5.2"
  }
 },
 "nbformat": 4,
 "nbformat_minor": 2
}

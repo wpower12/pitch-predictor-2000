{
 "cells": [
  {
   "cell_type": "markdown",
   "metadata": {},
   "source": [
    "# Basic Pitch Model\n",
    "This model provides a baseline to compare against.  The other models will attempt to show that they learn more useful patterns than just the pitch sequences themselves.  This will only take the pitches as input, with no additional features.  "
   ]
  },
  {
   "cell_type": "markdown",
   "metadata": {},
   "source": [
    "### Data\n",
    " The data for all the models will be the pitch sequences from all games in the MLB during the past 4 years (2016,2015,2014,2013). Two scripts were used to collect the data.  The first updates the lahmanDB of baseballs statistics to include the mlbgameID that is used by the python library that exposes the pitch sequence data. Once the database is updated to include the ids for the years to be sequenced, the second script is run.  This script reads the at bat data for each game in a given year and produces a set of example feature vectors.  These are saved in pickled format for later use.  \n",
    "\n",
    "For this model, just the sequences are needed. So the pickled files need to be read in, and converted to a format that only includes these sequences, and that can be dealt with by tensorflow.  Additionally, the sequences should be converted into one hot vectors. TODO-Find out a way to do this with tensorflow.  \n",
    "\n",
    "Once the entire data set has been formatted correctly, the data needs to be seperated into training, validation, and testing sets.  "
   ]
  },
  {
   "cell_type": "code",
   "execution_count": null,
   "metadata": {
    "collapsed": true
   },
   "outputs": [],
   "source": []
  },
  {
   "cell_type": "markdown",
   "metadata": {},
   "source": [
    "### Model"
   ]
  },
  {
   "cell_type": "code",
   "execution_count": null,
   "metadata": {
    "collapsed": true
   },
   "outputs": [],
   "source": []
  },
  {
   "cell_type": "markdown",
   "metadata": {},
   "source": [
    "### Train"
   ]
  },
  {
   "cell_type": "code",
   "execution_count": null,
   "metadata": {
    "collapsed": true
   },
   "outputs": [],
   "source": []
  },
  {
   "cell_type": "markdown",
   "metadata": {},
   "source": [
    "### Evaluate"
   ]
  },
  {
   "cell_type": "code",
   "execution_count": null,
   "metadata": {
    "collapsed": true
   },
   "outputs": [],
   "source": []
  }
 ],
 "metadata": {
  "kernelspec": {
   "display_name": "Python 3",
   "language": "python",
   "name": "python3"
  },
  "language_info": {
   "codemirror_mode": {
    "name": "ipython",
    "version": 3
   },
   "file_extension": ".py",
   "mimetype": "text/x-python",
   "name": "python",
   "nbconvert_exporter": "python",
   "pygments_lexer": "ipython3",
   "version": "3.5.2"
  }
 },
 "nbformat": 4,
 "nbformat_minor": 2
}

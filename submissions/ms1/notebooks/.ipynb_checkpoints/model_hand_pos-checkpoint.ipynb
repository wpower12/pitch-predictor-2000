{
 "cells": [
  {
   "cell_type": "markdown",
   "metadata": {
    "collapsed": true
   },
   "source": [
    "# Hand and Position Model\n",
    "\n",
    "This model will be similar to the previous one, but the vectors in the sequences will also include the pitch and position data from the at bat.  \n",
    "\n",
    "### Data\n",
    "First, the new example vectors need to be created.  The y tensor is exactly the same, but extra work needs to be done to create X."
   ]
  },
  {
   "cell_type": "code",
   "execution_count": 10,
   "metadata": {},
   "outputs": [
    {
     "name": "stdout",
     "output_type": "stream",
     "text": [
      "longest sequence length: 18\n",
      "empties: 13757\n",
      "total (clean): 110216\n",
      "pitch types: 16\n",
      "pos types: 125\n",
      "{'2B-SS', 'PR-1B', '3B-2B', 'SS-RF', 'PH-SS', '2B-P', 'C', 'PR-1B-2B', 'SS-LF', 'C-LF', 'CF-1B', 'PR-LF-CF', 'PH-1B-2B', 'PR-LF', 'PH-LF', 'LF-2B', 'PH-3B', 'DH-1B', '2B-RF', 'PH-RF-LF', 'RF-LF-CF', 'RF-3B', '2B-LF-3B', 'PR-DH-3B', 'RF-CF', 'P', '1B', 'DH', 'LF-1B', 'LF-RF', 'RF-LF-1B', 'PH-2B-1B', 'RF-LF-3B', '3B-LF', '3B-SS', 'PR-SS', 'CF-LF-CF', 'SS-3B-SS', '2B-3B-LF', 'CF-SS', 'PH-DH-RF', 'PR-DH', 'PH-LF-CF', 'PH-1B', '1B-LF', 'DH-2B', 'LF-P-LF-P', 'SS-1B', '3B-1B', '2B', '3B-1B-3B', '3B-RF-3B', 'P-LF-P', 'SS-2B', '1B-2B', 'DH-C', 'LF-CF-LF', 'PH-1B-LF', 'CF-2B', '1B-CF', 'LF-3B', 'DH-3B', 'PR-3B-1B', 'CF-RF', 'LF', 'LF-SS', '1B-P', 'RF-1B-LF', '2B-LF-RF', 'SS-P', '2B-1B', 'LF-1B-LF', 'PH-DH-2B', '1B-RF', 'PH-3B-1B', 'PR-CF', 'RF-2B', 'DH-LF', 'RF-SS', 'PH-C', '3B-2B-LF', 'LF-CF', '3B-CF', '2B-LF', 'PH-RF', 'PR-RF-CF', 'CF-LF', '3B-P', 'DH-SS', 'CF-3B', '3B', 'DH-RF', 'PR-RF', 'C-1B', '1B-3B', 'PR-1B-LF-1B', 'PR-3B', 'CF', 'RF', 'LF-C', '1B-C', 'RF-1B', 'PH', 'PH-CF', '3B-RF-LF', 'PH-2B', 'RF-LF', 'C-3B', 'PR-2B', 'PH-LF-RF', 'SS-3B', 'SS', '1B-SS', 'PH-DH', '2B-CF', 'C-LF-P-2B', 'PR-DH-LF', 'PH-1B-RF', '3B-RF', 'PR-C', 'LF-RF-LF', '3B-LF-3B', '2B-3B', 'PH-P', '3B-RF-2B'}\n",
      "18 18\n"
     ]
    }
   ],
   "source": [
    "import pickle\n",
    "import numpy as np\n",
    " \n",
    "full_data = [] \n",
    "year = 2016\n",
    "for m in [3,4,5,6,7,8]:\n",
    "    fn = \"../data/pitches_{}_{}.p\".format(year, m)\n",
    "    seqs = pickle.load(open(fn, \"rb\"))\n",
    "    full_data += seqs\n",
    "\n",
    "cleaned_data = [] # no 0 or 1 length sequences. \n",
    "longest_seq = 0\n",
    "empties_or_single = 0\n",
    "pitch_types = set()\n",
    "pos_types   = set()\n",
    "\n",
    "for line in full_data:\n",
    "    if(len(line[1]) > longest_seq): longest_seq = len(line[1])\n",
    "    if(len(line[1]) <= 1): \n",
    "        empties_or_single += 1\n",
    "    else:\n",
    "        cleaned_data.append(line)\n",
    "        pos_types.add(line[0][2]) \n",
    "        for p in line[1]: # the seq is the second element, first is the feature vector\n",
    "            pitch_types.add(p)\n",
    "\n",
    "print(\"longest sequence length: {}\\nempties: {}\\ntotal (clean): {}\\npitch types: {}\".format(longest_seq, \n",
    "                                                                                            empties_or_single,\n",
    "                                                                                            len(cleaned_data),\n",
    "                                                                                            len(pitch_types)))\n",
    "\n",
    "print(\"pos types: {}\".format(len(pos_types)))\n",
    "# Saving the cleaned data to a pickle to make it easier to work with the other models. \n",
    "pickle.dump(cleaned_data, open(\"../data/pitches_full_{}.p\".format(year), \"wb\"))\n",
    "\n",
    "# Creating X - padded sequences of one-hots. Need a dictionary of pitch types to an index.\n",
    "pitch_map = {\n",
    "    'KC': 0,\n",
    "    'CH': 1,\n",
    "    'SL': 2,\n",
    "    'SI': 3,\n",
    "    'FO': 4,\n",
    "    'FS': 5,\n",
    "    'CU': 6,\n",
    "    'PO': 7,\n",
    "    'KN': 8,\n",
    "    'FF': 9,\n",
    "    'EP': 10,\n",
    "    'IN': 11,\n",
    "    'SC': 12,\n",
    "    'FT': 13,\n",
    "    'FC': 14,\n",
    "    'UN': 15\n",
    "}\n",
    "\n",
    "MAX_LENGTH = longest_seq\n",
    "NUM_EXTRA_FEATURES = 3 # pitcher hand, batter hand, batter pos\n",
    "\n",
    "def create_onehot_with_features(seq):\n",
    "    ret = []\n",
    "    i = 0\n",
    "    for p in seq[1]:\n",
    "        p_oh = np.zeros((len(pitch_map),), dtype=np.float32)\n",
    "        p_oh[pitch_map[p]] = 1.0\n",
    "        ret.append(p_oh)\n",
    "        i += 1\n",
    "    for j in range(i, MAX_LENGTH):# Pad to length. \n",
    "        ret.append(np.zeros((len(pitch_map),), dtype=np.float32))\n",
    "    return ret\n",
    "\n",
    "def create_target(seq):\n",
    "    ret = []\n",
    "    i = 0\n",
    "    for p in seq[1][1:]:\n",
    "        ret.append(pitch_map[p])\n",
    "        i += 1\n",
    "    for j in range(i, MAX_LENGTH):\n",
    "        ret.append(0)\n",
    "    return ret\n",
    "\n",
    "X_full = [] # Sequences of onehots.\n",
    "y_full = [] # index of correct pitch in the one-hot, starting at X[1]\n",
    "for line in cleaned_data:\n",
    "    X_full.append(create_onehot_with_features(line))\n",
    "    y_full.append(create_target(line))\n",
    "\n",
    "print(pos_types)\n",
    "    \n",
    "# these should be 18. Nice.\n",
    "print(len(X_full[0]), len(X_full[0]))"
   ]
  },
  {
   "cell_type": "markdown",
   "metadata": {},
   "source": [
    "Woa! Lot more positions than I was anticipating.  Looks like they allow for multiple positions.  I think I can still handle this, but the positions feature will have to be a one-hot of all the individual positions, and a batters pos vector would contain a value for each position listed.  These could be normalized, even. "
   ]
  },
  {
   "cell_type": "code",
   "execution_count": 11,
   "metadata": {},
   "outputs": [
    {
     "name": "stdout",
     "output_type": "stream",
     "text": [
      "{'PR', '3B', '2B', 'P', 'C', '1B', 'DH', 'SS', 'PH', 'CF', 'RF', 'LF'}\n"
     ]
    }
   ],
   "source": [
    "simple_poss = set()\n",
    "\n",
    "for p in pos_types:\n",
    "    p_split = p.split(\"-\")\n",
    "    for i in p_split:\n",
    "        simple_poss.add(i)\n",
    "# This should look like just the regular list of positions. \n",
    "print(simple_poss)"
   ]
  },
  {
   "cell_type": "markdown",
   "metadata": {},
   "source": [
    "### Model\n",
    "I feel like there is an issue with just extending the tensor that goes from cell to cell in the RNN.  If at each iteration, we get an output that represents the logits for each feature in the feature vector, whats to stop the network from just predicting the handedness and position at each step, because it never changes?\n",
    "\n",
    "Is there a way to restrict the calculation of the logits to just the 16 pitch outputs?  Could I make the input be the 16+3 vector, make the internals output 16, and the next input would be output+3features?"
   ]
  },
  {
   "cell_type": "code",
   "execution_count": null,
   "metadata": {
    "collapsed": true
   },
   "outputs": [],
   "source": []
  }
 ],
 "metadata": {
  "kernelspec": {
   "display_name": "Python 3",
   "language": "python",
   "name": "python3"
  },
  "language_info": {
   "codemirror_mode": {
    "name": "ipython",
    "version": 3
   },
   "file_extension": ".py",
   "mimetype": "text/x-python",
   "name": "python",
   "nbconvert_exporter": "python",
   "pygments_lexer": "ipython3",
   "version": "3.5.2"
  }
 },
 "nbformat": 4,
 "nbformat_minor": 2
}
